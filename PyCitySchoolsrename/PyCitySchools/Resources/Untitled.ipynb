{
 "cells": [
  {
   "cell_type": "code",
   "execution_count": 9,
   "id": "fc32b672",
   "metadata": {},
   "outputs": [],
   "source": [
    "import pandas as pd"
   ]
  },
  {
   "cell_type": "code",
   "execution_count": 10,
   "id": "8a6af879",
   "metadata": {},
   "outputs": [],
   "source": [
    "schools_df = \"pandas-challenge/PyCitySchools/Instructions/PyCitySchools/Resources/schools_complete.csv\"\n",
    "students_df = \"pandas-challenge/PyCitySchools/Instructions/PyCitySchools/Resources/students_complete.csv\"\n"
   ]
  },
  {
   "cell_type": "code",
   "execution_count": 11,
   "id": "e3cf6532",
   "metadata": {},
   "outputs": [
    {
     "ename": "NameError",
     "evalue": "name 'schools_data_file' is not defined",
     "output_type": "error",
     "traceback": [
      "\u001b[0;31m---------------------------------------------------------------------------\u001b[0m",
      "\u001b[0;31mNameError\u001b[0m                                 Traceback (most recent call last)",
      "Input \u001b[0;32mIn [11]\u001b[0m, in \u001b[0;36m<cell line: 1>\u001b[0;34m()\u001b[0m\n\u001b[0;32m----> 1\u001b[0m schools_data_df \u001b[38;5;241m=\u001b[39m pd\u001b[38;5;241m.\u001b[39mread_csv(\u001b[43mschools_data_file\u001b[49m)\n\u001b[1;32m      2\u001b[0m schools_data_df\u001b[38;5;241m.\u001b[39mhead()\n",
      "\u001b[0;31mNameError\u001b[0m: name 'schools_data_file' is not defined"
     ]
    }
   ],
   "source": [
    "schools_data_df = pd.read_csv(schools_data_file)\n",
    "schools_data_df.head()"
   ]
  },
  {
   "cell_type": "code",
   "execution_count": null,
   "id": "43906528",
   "metadata": {},
   "outputs": [],
   "source": []
  }
 ],
 "metadata": {
  "kernelspec": {
   "display_name": "PythonData",
   "language": "python",
   "name": "pythondata"
  },
  "language_info": {
   "codemirror_mode": {
    "name": "ipython",
    "version": 3
   },
   "file_extension": ".py",
   "mimetype": "text/x-python",
   "name": "python",
   "nbconvert_exporter": "python",
   "pygments_lexer": "ipython3",
   "version": "3.9.12"
  }
 },
 "nbformat": 4,
 "nbformat_minor": 5
}
